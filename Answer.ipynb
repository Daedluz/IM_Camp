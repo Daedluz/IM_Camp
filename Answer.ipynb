{
 "cells": [
  {
   "cell_type": "code",
   "execution_count": null,
   "id": "89df4e8f-5723-4f75-835a-37d3ae2641e0",
   "metadata": {},
   "outputs": [],
   "source": [
    "print(\"test\")"
   ]
  },
  {
   "cell_type": "code",
   "execution_count": null,
   "id": "7bb30b16-595d-49f9-aa9e-5c7906480562",
   "metadata": {},
   "outputs": [],
   "source": [
    "a = 438\n",
    "if (a >= 1500 and a <= 2700) :\n",
    "    if (a % 7 == 0 or a % 5 == 0):\n",
    "        print(\"Test successful\")\n",
    "    else :\n",
    "        print(\"Not divisible\")\n",
    "else:\n",
    "    print(\"Out of range!\")"
   ]
  },
  {
   "cell_type": "code",
   "execution_count": null,
   "id": "be244e00-596f-4fc9-99c9-3122d77a6be8",
   "metadata": {},
   "outputs": [],
   "source": [
    "def oplus (A, B):\n",
    "    return (A * B + A)\n",
    "print (oplus(10, 4) * oplus(5, 8) - 2**8)\n",
    "# 1994"
   ]
  },
  {
   "cell_type": "code",
   "execution_count": null,
   "id": "16492da9-e7a5-4cd5-8e57-52c60acc4c65",
   "metadata": {},
   "outputs": [],
   "source": [
    "numbers = [15, 67, 23, 99, 25, 44, 73]\n",
    "maximum = max(numbers)\n",
    "numbers.remove(maximum)\n",
    "numbers.append(sum(numbers))\n",
    "print(numbers)"
   ]
  },
  {
   "cell_type": "code",
   "execution_count": null,
   "id": "667e7b47-f432-4072-8fd0-f866ff6264a7",
   "metadata": {},
   "outputs": [],
   "source": [
    "for i in range (1, 10):\n",
    "    for j in range (1, 10):\n",
    "        print(f'{i} x {j} = {i*j}')\n",
    "    print('\\n')"
   ]
  },
  {
   "cell_type": "markdown",
   "id": "24b36be4",
   "metadata": {},
   "source": [
    "## Assignment"
   ]
  },
  {
   "cell_type": "markdown",
   "id": "89938a5b-edbe-4ec5-9ce9-6d205a7bdc81",
   "metadata": {},
   "source": [
    "### Palindrome Number"
   ]
  },
  {
   "cell_type": "code",
   "execution_count": null,
   "id": "4dc1efa7-21ce-4d25-bdbe-2eb9b884cdfa",
   "metadata": {},
   "outputs": [],
   "source": [
    "class Solution(object):\n",
    "    def isPalindrome(self, x):\n",
    "        \"\"\"\n",
    "        :type x: int\n",
    "        :rtype: bool\n",
    "        \"\"\"\n",
    "        x = str(x)\n",
    "        for i in range(len(x) // 2):\n",
    "            if (x[i] != x[-1-i]):\n",
    "                return False\n",
    "        return True"
   ]
  },
  {
   "cell_type": "markdown",
   "id": "185ce25f",
   "metadata": {},
   "source": [
    "Solve it without turning `x` into `string`"
   ]
  },
  {
   "cell_type": "code",
   "execution_count": 33,
   "id": "a3439b63-11bb-4581-ae1a-9cd5be5cf433",
   "metadata": {},
   "outputs": [],
   "source": [
    "import math\n",
    "def isPalindrome(x):\n",
    "    \"\"\"\n",
    "    :type x: int\n",
    "    :rtype: bool\n",
    "    \"\"\"\n",
    "    if (x < 0):\n",
    "        return False\n",
    "    elif (x == 0):\n",
    "        return True\n",
    "    n = math.log10(x)\n",
    "    n = int(math.floor(n))\n",
    "    for i in range ((n+3) // 2):\n",
    "        l = (x % 10**(n-i+1)) // 10**(n-i)\n",
    "        r = (x % 10**(i+1)) // 10**i\n",
    "        if (l != r):\n",
    "            return False\n",
    "    return True"
   ]
  },
  {
   "cell_type": "code",
   "execution_count": 36,
   "id": "2614e371",
   "metadata": {},
   "outputs": [
    {
     "data": {
      "text/plain": [
       "False"
      ]
     },
     "execution_count": 36,
     "metadata": {},
     "output_type": "execute_result"
    }
   ],
   "source": [
    "isPalindrome(1231)"
   ]
  },
  {
   "cell_type": "markdown",
   "id": "0d0efd01",
   "metadata": {},
   "source": [
    "### Single Number"
   ]
  },
  {
   "cell_type": "code",
   "execution_count": null,
   "id": "c66697d9",
   "metadata": {},
   "outputs": [],
   "source": [
    "# class Solution(object):\n",
    "def singleNumber(nums):\n",
    "    \"\"\"\n",
    "    :type nums: List[int]\n",
    "    :rtype: int\n",
    "    \"\"\"\n",
    "    unique = []\n",
    "    for i in range(len(nums)):\n",
    "        if (nums[i] not in unique):\n",
    "            unique.append(nums[i])\n",
    "        else: \n",
    "            unique.remove(nums[i])\n",
    "    return unique[0]"
   ]
  },
  {
   "cell_type": "markdown",
   "id": "48e6120f",
   "metadata": {},
   "source": [
    "XOR two same numbers will yield 0 "
   ]
  },
  {
   "cell_type": "code",
   "execution_count": null,
   "id": "1bfe2914",
   "metadata": {},
   "outputs": [],
   "source": [
    "# class Solution(object):\n",
    "def singleNumber(nums):\n",
    "    \"\"\"\n",
    "    :type nums: List[int]\n",
    "    :rtype: int\n",
    "    \"\"\"\n",
    "    unique = nums[0]\n",
    "    for i in range(1, len(nums)):\n",
    "        unique ^= nums[i]\n",
    "    return unique"
   ]
  }
 ],
 "metadata": {
  "kernelspec": {
   "display_name": "Python 3",
   "language": "python",
   "name": "python3"
  },
  "language_info": {
   "codemirror_mode": {
    "name": "ipython",
    "version": 3
   },
   "file_extension": ".py",
   "mimetype": "text/x-python",
   "name": "python",
   "nbconvert_exporter": "python",
   "pygments_lexer": "ipython3",
   "version": "3.8.7"
  }
 },
 "nbformat": 4,
 "nbformat_minor": 5
}
